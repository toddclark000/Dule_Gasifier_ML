{
 "cells": [
  {
   "cell_type": "code",
   "execution_count": 1,
   "id": "698f5412-6de7-42ac-b693-7a842741a20d",
   "metadata": {},
   "outputs": [],
   "source": [
    "import pandas as pd"
   ]
  },
  {
   "cell_type": "code",
   "execution_count": 2,
   "id": "a9a498a1-4db1-4162-bdbf-1cbccd08f3d5",
   "metadata": {},
   "outputs": [],
   "source": [
    "rd241203 = pd.read_csv(\"Documents/CS4964/Project/Gasifier Data Sets/RD241203.csv\")\n",
    "rd241205 = pd.read_csv(\"Documents/CS4964/Project/Gasifier Data Sets/RD241205.csv\")\n",
    "rd250122 = pd.read_csv(\"Documents/CS4964/Project/Gasifier Data Sets/RD250122.csv\")\n",
    "rd250213 = pd.read_csv(\"Documents/CS4964/Project/Gasifier Data Sets/RD250213.csv\")\n",
    "rd250220 = pd.read_csv(\"Documents/CS4964/Project/Gasifier Data Sets/RD250220.csv\")\n",
    "rd250227 = pd.read_csv(\"Documents/CS4964/Project/Gasifier Data Sets/RD250227.csv\")"
   ]
  },
  {
   "cell_type": "code",
   "execution_count": 7,
   "id": "cdacef79-02c4-4df7-a542-92aa70aa30ca",
   "metadata": {},
   "outputs": [],
   "source": [
    "column_filter = ['Date', 'Time', 'EFG Air Flow Rate lb/hr', 'Primary O2 Flow Rate lb/hr',\n",
    "'EFG System Pressure psi',\n",
    "'Slurry Flow Rate lb/hr',\n",
    "'Injector Cooling Water Outlet Temp F',\n",
    "'Analyzer 2 CO2 %',\n",
    "'Analyzer 2 CO %',\n",
    "'Analyzer 3 O2 %',\n",
    "'Analyzer 3 CO2%',\n",
    "'ABB CH4',\n",
    "'ABB CO',\n",
    "'ABB CO2',\n",
    "'ABB O2',\n",
    "'GB O2%',\n",
    "'GB CO2%',\n",
    "'GB CO%',\n",
    "'GB CH4%',\n",
    "'GB H2%',\n",
    "'GB C2H4%',\n",
    "'GB C2H2%',\n",
    "'Afterburner Air Flow Rate lb/hr',\n",
    "'Afterburner Natural Gas Flow Rate lb/hr',\n",
    "'Afterburner Sec 1 Temp F',\n",
    "'Afterburner Sec 2 Temp F',\n",
    "'Afterburner Sec 3 Temp F',\n",
    "'Afterburner Sec 4 Temp F',\n",
    "'Afterburner Water Inlet Temp F',\n",
    "'Afterburner Water Outlet Temp F',\n",
    "'Afterburner Flue Inlet Temp F',\n",
    "'Afterburner Flue Outlet Temp F',\n",
    "'EFG Quenched Gas Temp F',\n",
    "'EFG:B_TC_1_Shallow.Value']"
   ]
  },
  {
   "cell_type": "code",
   "execution_count": 8,
   "id": "934c7bd2-cc5f-4d79-99c8-91c6fdf5a1e2",
   "metadata": {},
   "outputs": [],
   "source": [
    "dfs = [rd241203, rd241205, rd250122, rd250213, rd250220, rd250227]\n",
    "for df in dfs:\n",
    "    if 'Moyno Flow Rate lb/hr' in df.columns:\n",
    "        df.rename(columns={'Moyno Flow Rate lb/hr': 'Slurry Flow Rate lb/hr'}, inplace=True)"
   ]
  },
  {
   "cell_type": "code",
   "execution_count": 9,
   "id": "7749d71e-31c7-4891-8826-efa53dd14bb8",
   "metadata": {},
   "outputs": [],
   "source": [
    "filtered_dfs = [df[column_filter] for df in dfs]"
   ]
  },
  {
   "cell_type": "code",
   "execution_count": 10,
   "id": "20f0d769-d3a6-4f29-93f2-08cdc0d61260",
   "metadata": {},
   "outputs": [],
   "source": [
    "# Concatenate the filtered DataFrames:\n",
    "combined_df = pd.concat(filtered_dfs, ignore_index=True)"
   ]
  },
  {
   "cell_type": "code",
   "execution_count": null,
   "id": "c1aa8905-39c1-40fa-a43d-6ed9e5885bf4",
   "metadata": {},
   "outputs": [],
   "source": []
  }
 ],
 "metadata": {
  "kernelspec": {
   "display_name": "Python dbgenv",
   "language": "python",
   "name": "dbgenv"
  },
  "language_info": {
   "codemirror_mode": {
    "name": "ipython",
    "version": 3
   },
   "file_extension": ".py",
   "mimetype": "text/x-python",
   "name": "python",
   "nbconvert_exporter": "python",
   "pygments_lexer": "ipython3",
   "version": "3.13.2"
  }
 },
 "nbformat": 4,
 "nbformat_minor": 5
}
