{
 "cells": [
  {
   "cell_type": "code",
   "execution_count": 11,
   "metadata": {},
   "outputs": [],
   "source": [
    "import pandas as pd\n",
    "import os\n",
    "import glob\n",
    "import matplotlib.pyplot as plt\n",
    "\n",
    "# set working directory\n",
    "while(not os.getcwd().endswith('Dule_Gasifier_ML')):\n",
    "    #back out of directory   \n",
    "    os.chdir('..')\n",
    "os.getcwd()\n",
    "\n",
    "#import helpers\n",
    "from helper_functions import to_datetime"
   ]
  },
  {
   "cell_type": "markdown",
   "metadata": {},
   "source": [
    "# 1: open organize and set date time for all data"
   ]
  },
  {
   "cell_type": "code",
   "execution_count": 8,
   "metadata": {},
   "outputs": [],
   "source": [
    "# read in cleaned data\n",
    "df_all_data = pd.read_csv(r\"Gasifier Data Sets\\filtered_combine_data.csv\")\n",
    "\n",
    "# use glob to grab all the relevant data files\n",
    "paths = glob.glob(r\"Gasifier Data Sets/RD*.csv\")\n",
    "\n",
    "# open all the csvs and sort them into dict\n",
    "df_dict = {}\n",
    "for path in paths:\n",
    "    df_dict[path] = pd.read_csv(path)\n",
    "\n",
    "# cast data to date time\n",
    "for file_name, df in df_dict.items():\n",
    "    df_dict[file_name] = to_datetime(df)\n",
    "\n",
    "df_all_data = to_datetime(df_all_data)"
   ]
  },
  {
   "cell_type": "markdown",
   "metadata": {},
   "source": [
    "# 2. plot time series for each feild:"
   ]
  },
  {
   "cell_type": "code",
   "execution_count": null,
   "metadata": {},
   "outputs": [
    {
     "name": "stdout",
     "output_type": "stream",
     "text": [
      "hi\n",
      "hi\n",
      "hi\n",
      "hi\n",
      "hi\n",
      "hi\n"
     ]
    }
   ],
   "source": [
    "fig,axes = plt.subplots(ncols=1, nrows = len(df_dict))\n",
    "\n",
    "for i, key_value in enumerate(df_dict.items()):\n",
    "    ax = axes[i]\n",
    "    file_path, df = key_value\n",
    "    df.plot(x)"
   ]
  },
  {
   "cell_type": "code",
   "execution_count": null,
   "metadata": {},
   "outputs": [],
   "source": []
  }
 ],
 "metadata": {
  "kernelspec": {
   "display_name": "mass",
   "language": "python",
   "name": "python3"
  },
  "language_info": {
   "codemirror_mode": {
    "name": "ipython",
    "version": 3
   },
   "file_extension": ".py",
   "mimetype": "text/x-python",
   "name": "python",
   "nbconvert_exporter": "python",
   "pygments_lexer": "ipython3",
   "version": "3.12.2"
  }
 },
 "nbformat": 4,
 "nbformat_minor": 2
}
