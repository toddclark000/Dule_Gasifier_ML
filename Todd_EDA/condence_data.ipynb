{
 "cells": [
  {
   "cell_type": "code",
   "execution_count": 1,
   "id": "698f5412-6de7-42ac-b693-7a842741a20d",
   "metadata": {},
   "outputs": [],
   "source": [
    "import pandas as pd"
   ]
  },
  {
   "cell_type": "code",
   "execution_count": 2,
   "id": "4d2ee542",
   "metadata": {},
   "outputs": [
    {
     "name": "stdout",
     "output_type": "stream",
     "text": [
      "c:\\Users\\theto\\OneDrive\\Desktop\\DS\\Dule_Gasifier_ML\n"
     ]
    }
   ],
   "source": [
    "import os\n",
    "# os.chdir('Todd EDA')\n",
    "# print(os.getcwd())\n",
    "os.chdir('..')\n",
    "print(os.getcwd())"
   ]
  },
  {
   "cell_type": "code",
   "execution_count": 3,
   "id": "a9a498a1-4db1-4162-bdbf-1cbccd08f3d5",
   "metadata": {},
   "outputs": [],
   "source": [
    "rd241205 = pd.read_csv(r\"Gasifier Data Sets/RD241205.csv\")\n",
    "rd241203 = pd.read_csv(r\"Gasifier Data Sets/RD241203.csv\")\n",
    "rd250122 = pd.read_csv(r\"Gasifier Data Sets/RD250122.csv\")\n",
    "rd250213 = pd.read_csv(r\"Gasifier Data Sets/RD250213.csv\")\n",
    "rd250220 = pd.read_csv(r\"Gasifier Data Sets/RD250220.csv\")\n",
    "rd250227 = pd.read_csv(r\"Gasifier Data Sets/RD250227.csv\")"
   ]
  },
  {
   "cell_type": "code",
   "execution_count": 4,
   "id": "cdacef79-02c4-4df7-a542-92aa70aa30ca",
   "metadata": {},
   "outputs": [],
   "source": [
    "column_filter = ['Date', 'Time', 'EFG Air Flow Rate lb/hr', 'Primary O2 Flow Rate lb/hr',\n",
    "'EFG System Pressure psi',\n",
    "'Slurry Flow Rate lb/hr',\n",
    "'Injector Cooling Water Outlet Temp F',\n",
    "'EFG:EFG_Oxygen_Pressure_1.Value',\n",
    "'EFG:EFG_Oxygen_Pressure_2.Value',\n",
    "###############################################################################\n",
    "'Analyzer 2 CO2 %',                 # Is it worth keeping these extra analyzers?\n",
    "'Analyzer 2 CO %',                  # Tf they are just being kept because they\n",
    "'Analyzer 3 O2 %',                  # have errors than that is exactly what we\n",
    "'Analyzer 3 CO2%',                  # want.\n",
    "'ABB CH4',\n",
    "'ABB CO',\n",
    "'ABB CO2',\n",
    "'ABB O2',\n",
    "###############################################################################\n",
    "'GB O2%',\n",
    "'GB CO2%',\n",
    "'GB CO%',\n",
    "'GB CH4%',\n",
    "'GB H2%',\n",
    "'GB C2H4%',\n",
    "'GB C2H2%',\n",
    "'GB LHV [MJ/Nm3]',\n",
    "'Afterburner Air Flow Rate lb/hr',\n",
    "'Afterburner Natural Gas Flow Rate lb/hr',\n",
    "'EFG Quenched Gas Temp F',\n",
    "'EFG:B_TC_1_Shallow.Value',\n",
    "'EFG:B_TC_4_Shallow.Value'\n",
    "]\n",
    "\n"
   ]
  },
  {
   "cell_type": "code",
   "execution_count": 5,
   "id": "934c7bd2-cc5f-4d79-99c8-91c6fdf5a1e2",
   "metadata": {},
   "outputs": [],
   "source": [
    "dfs = [rd241203, rd241205, rd250122, rd250213, rd250220, rd250227]\n",
    "for df in dfs:\n",
    "    if 'Moyno Flow Rate lb/hr' in df.columns:\n",
    "        df.rename(columns={'Moyno Flow Rate lb/hr': 'Slurry Flow Rate lb/hr'}, inplace=True)"
   ]
  },
  {
   "cell_type": "code",
   "execution_count": 6,
   "id": "7749d71e-31c7-4891-8826-efa53dd14bb8",
   "metadata": {},
   "outputs": [],
   "source": [
    "filtered_dfs = [df[column_filter] for df in dfs]"
   ]
  },
  {
   "cell_type": "code",
   "execution_count": 7,
   "id": "20f0d769-d3a6-4f29-93f2-08cdc0d61260",
   "metadata": {},
   "outputs": [],
   "source": [
    "# Concatenate the filtered DataFrames:\n",
    "combined_df = pd.concat(filtered_dfs, ignore_index=True)\n",
    "combined_df.to_csv(r\"Gasifier Data Sets/filtered_combine_data.csv\", index=False)"
   ]
  },
  {
   "cell_type": "code",
   "execution_count": null,
   "id": "6cc27eb1",
   "metadata": {},
   "outputs": [],
   "source": []
  }
 ],
 "metadata": {
  "kernelspec": {
   "display_name": "mass",
   "language": "python",
   "name": "python3"
  },
  "language_info": {
   "codemirror_mode": {
    "name": "ipython",
    "version": 3
   },
   "file_extension": ".py",
   "mimetype": "text/x-python",
   "name": "python",
   "nbconvert_exporter": "python",
   "pygments_lexer": "ipython3",
   "version": "3.12.2"
  }
 },
 "nbformat": 4,
 "nbformat_minor": 5
}
