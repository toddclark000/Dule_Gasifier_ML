{
 "cells": [
  {
   "cell_type": "code",
   "execution_count": 1,
   "id": "698f5412-6de7-42ac-b693-7a842741a20d",
   "metadata": {},
   "outputs": [],
   "source": [
    "import pandas as pd"
   ]
  },
  {
   "cell_type": "code",
   "execution_count": 2,
   "id": "24d882f3-3162-4491-b1ac-100033c14865",
   "metadata": {},
   "outputs": [],
   "source": [
    "pd.set_option('display.max_rows', None)"
   ]
  },
  {
   "cell_type": "code",
   "execution_count": 3,
   "id": "a9a498a1-4db1-4162-bdbf-1cbccd08f3d5",
   "metadata": {},
   "outputs": [],
   "source": [
    "rd241203 = pd.read_csv(\"Gasifier Data Sets/RD241203.csv\")\n",
    "rd241205 = pd.read_csv(\"Gasifier Data Sets/RD241205.csv\")\n",
    "rd250122 = pd.read_csv(\"Gasifier Data Sets/RD250122.csv\")\n",
    "rd250213 = pd.read_csv(\"Gasifier Data Sets/RD250213.csv\")\n",
    "rd250220 = pd.read_csv(\"Gasifier Data Sets/RD250220.csv\")\n",
    "rd250227 = pd.read_csv(\"Gasifier Data Sets/RD250227.csv\")"
   ]
  },
  {
   "cell_type": "code",
   "execution_count": 4,
   "id": "cdacef79-02c4-4df7-a542-92aa70aa30ca",
   "metadata": {},
   "outputs": [],
   "source": [
    "column_filter = ['Date', 'Time', 'Primary O2 Flow Rate lb/hr',\n",
    "'EFG System Pressure psi',\n",
    "'Slurry Flow Rate lb/hr',\n",
    "'EFG:EFG_Oxygen_Pressure_1.Value',\n",
    "'EFG:EFG_Oxygen_Pressure_2.Value',\n",
    "'Injector Cooling Water Outlet Temp F',\n",
    "'GB O2%',\n",
    "'GB CO2%',\n",
    "'GB CO%',\n",
    "'GB CH4%',\n",
    "'GB H2%',\n",
    "'GB C2H4%',\n",
    "'GB C2H2%',\n",
    "'GB LHV [MJ/Nm3]',\n",
    "'EFG:B_TC_1_Shallow.Value',\n",
    "'EFG:B_TC_4_Shallow.Value']"
   ]
  },
  {
   "cell_type": "code",
   "execution_count": 5,
   "id": "934c7bd2-cc5f-4d79-99c8-91c6fdf5a1e2",
   "metadata": {},
   "outputs": [],
   "source": [
    "dfs = [rd241203, rd241205, rd250122, rd250213, rd250220, rd250227]\n",
    "for df in dfs:\n",
    "    if 'Moyno Flow Rate lb/hr' in df.columns:\n",
    "        df.rename(columns={'Moyno Flow Rate lb/hr': 'Slurry Flow Rate lb/hr'}, inplace=True)"
   ]
  },
  {
   "cell_type": "code",
   "execution_count": 6,
   "id": "274d60a0-6aa3-47af-9cde-e307e40388e2",
   "metadata": {},
   "outputs": [],
   "source": [
    "filtered_dfs = [df[column_filter] for df in dfs]"
   ]
  },
  {
   "cell_type": "code",
   "execution_count": null,
   "id": "ecc74d46-c441-4aeb-9187-a66c18f5d1d2",
   "metadata": {
    "scrolled": true
   },
   "outputs": [
    {
     "name": "stderr",
     "output_type": "stream",
     "text": [
      "C:\\Users\\User2\\AppData\\Local\\Temp\\ipykernel_8324\\4196961818.py:7: UserWarning: Could not infer format, so each element will be parsed individually, falling back to `dateutil`. To ensure parsing is consistent and as-expected, please specify a format.\n",
      "  fdf.loc[:, 'Time'] = pd.to_datetime(fdf.loc[:, 'Time'], errors='coerce').dt.strftime('%H:%M:%S')\n",
      "C:\\Users\\User2\\AppData\\Local\\Temp\\ipykernel_8324\\4196961818.py:7: UserWarning: Could not infer format, so each element will be parsed individually, falling back to `dateutil`. To ensure parsing is consistent and as-expected, please specify a format.\n",
      "  fdf.loc[:, 'Time'] = pd.to_datetime(fdf.loc[:, 'Time'], errors='coerce').dt.strftime('%H:%M:%S')\n",
      "C:\\Users\\User2\\AppData\\Local\\Temp\\ipykernel_8324\\4196961818.py:7: UserWarning: Could not infer format, so each element will be parsed individually, falling back to `dateutil`. To ensure parsing is consistent and as-expected, please specify a format.\n",
      "  fdf.loc[:, 'Time'] = pd.to_datetime(fdf.loc[:, 'Time'], errors='coerce').dt.strftime('%H:%M:%S')\n",
      "C:\\Users\\User2\\AppData\\Local\\Temp\\ipykernel_8324\\4196961818.py:7: UserWarning: Could not infer format, so each element will be parsed individually, falling back to `dateutil`. To ensure parsing is consistent and as-expected, please specify a format.\n",
      "  fdf.loc[:, 'Time'] = pd.to_datetime(fdf.loc[:, 'Time'], errors='coerce').dt.strftime('%H:%M:%S')\n",
      "C:\\Users\\User2\\AppData\\Local\\Temp\\ipykernel_8324\\4196961818.py:7: UserWarning: Could not infer format, so each element will be parsed individually, falling back to `dateutil`. To ensure parsing is consistent and as-expected, please specify a format.\n",
      "  fdf.loc[:, 'Time'] = pd.to_datetime(fdf.loc[:, 'Time'], errors='coerce').dt.strftime('%H:%M:%S')\n",
      "C:\\Users\\User2\\AppData\\Local\\Temp\\ipykernel_8324\\4196961818.py:7: UserWarning: Could not infer format, so each element will be parsed individually, falling back to `dateutil`. To ensure parsing is consistent and as-expected, please specify a format.\n",
      "  fdf.loc[:, 'Time'] = pd.to_datetime(fdf.loc[:, 'Time'], errors='coerce').dt.strftime('%H:%M:%S')\n"
     ]
    }
   ],
   "source": [
    "for idx, fdf in enumerate(filtered_dfs):\n",
    "    fdf = fdf.copy()  # create an independent copy\n",
    "    # Ensure 'Date' is a string\n",
    "    fdf.loc[:, 'Date'] = fdf.loc[:, 'Date'].astype(str)\n",
    "    \n",
    "    # Convert 'Time' to datetime (coerce errors if any) and extract only the time as a string\n",
    "    fdf.loc[:, 'Time'] = pd.to_datetime(fdf.loc[:, 'Time'], errors='coerce').dt.strftime('%H:%M:%S')\n",
    "    \n",
    "    # Concatenate 'Date' and 'Time' then convert to datetime\n",
    "    fdf.loc[:, 'Datetime'] = pd.to_datetime(fdf.loc[:, 'Date'] + ' ' + fdf.loc[:, 'Time'],\n",
    "                                             format='%m/%d/%Y %H:%M:%S')\n",
    "    # Update the list with the modified DataFrame\n",
    "    filtered_dfs[idx] = fdf"
   ]
  },
  {
   "cell_type": "code",
   "execution_count": 32,
   "id": "c1aa8905-39c1-40fa-a43d-6ed9e5885bf4",
   "metadata": {},
   "outputs": [
    {
     "name": "stdout",
     "output_type": "stream",
     "text": [
      "0\n",
      "0\n",
      "0\n",
      "2650\n",
      "3202\n",
      "4342\n",
      "(1551, 88)\n",
      "(1539, 88)\n",
      "(3272, 88)\n",
      "(2650, 88)\n",
      "(3202, 88)\n",
      "(4342, 88)\n"
     ]
    }
   ],
   "source": [
    "# Only null values in the data set\n",
    "for df in dfs:\n",
    "    print(df['Secondary O2 Flow Rate lb/hr'].isnull().sum())\n",
    "\n",
    "#We are missing these values for the entire data set\n",
    "for df in dfs:\n",
    "    print(df.shape)"
   ]
  },
  {
   "cell_type": "code",
   "execution_count": 33,
   "id": "9641ccb2-49f6-4689-8d68-c5a0633c8634",
   "metadata": {},
   "outputs": [],
   "source": [
    "zero_column_check = ['EFG Air Flow Rate lb/hr', 'Primary O2 Flow Rate lb/hr',\n",
    "'EFG System Pressure psi',\n",
    "'Slurry Flow Rate lb/hr',\n",
    "'Injector Cooling Water Outlet Temp F',\n",
    "'Analyzer 2 CO2 %',\n",
    "'Analyzer 2 CO %',\n",
    "'Analyzer 3 O2 %',\n",
    "'Analyzer 3 CO2%',\n",
    "'ABB CH4',\n",
    "'ABB CO',\n",
    "'ABB CO2',\n",
    "'ABB O2',\n",
    "'GB O2%',\n",
    "'GB CO2%',\n",
    "'GB CO%',\n",
    "'GB CH4%',\n",
    "'GB H2%',\n",
    "'GB C2H4%',\n",
    "'GB C2H2%',\n",
    "'Afterburner Air Flow Rate lb/hr',\n",
    "'Afterburner Natural Gas Flow Rate lb/hr',\n",
    "'Afterburner Sec 1 Temp F',\n",
    "'Afterburner Sec 2 Temp F',\n",
    "'Afterburner Sec 3 Temp F',\n",
    "'Afterburner Sec 4 Temp F',\n",
    "'Afterburner Water Inlet Temp F',\n",
    "'Afterburner Water Outlet Temp F',\n",
    "'Afterburner Flue Inlet Temp F',\n",
    "'Afterburner Flue Outlet Temp F',\n",
    "'EFG Quenched Gas Temp F',\n",
    "'EFG:B_TC_1_Shallow.Value']"
   ]
  },
  {
   "cell_type": "code",
   "execution_count": 36,
   "id": "391e4f27-3765-4ad5-9b8a-aaba489b7c57",
   "metadata": {},
   "outputs": [
    {
     "data": {
      "text/plain": [
       "EFG Air Flow Rate lb/hr                      3\n",
       "Primary O2 Flow Rate lb/hr                   0\n",
       "EFG System Pressure psi                      0\n",
       "Slurry Flow Rate lb/hr                       0\n",
       "Injector Cooling Water Outlet Temp F         0\n",
       "Analyzer 2 CO2 %                             0\n",
       "Analyzer 2 CO %                              0\n",
       "Analyzer 3 O2 %                              5\n",
       "Analyzer 3 CO2%                              0\n",
       "ABB CH4                                      0\n",
       "ABB CO                                       0\n",
       "ABB CO2                                      0\n",
       "ABB O2                                       0\n",
       "GB O2%                                       0\n",
       "GB CO2%                                      0\n",
       "GB CO%                                       0\n",
       "GB CH4%                                      0\n",
       "GB H2%                                       0\n",
       "GB C2H4%                                   477\n",
       "GB C2H2%                                     0\n",
       "Afterburner Air Flow Rate lb/hr              2\n",
       "Afterburner Natural Gas Flow Rate lb/hr      0\n",
       "Afterburner Sec 1 Temp F                     0\n",
       "Afterburner Sec 2 Temp F                     0\n",
       "Afterburner Sec 3 Temp F                     0\n",
       "Afterburner Sec 4 Temp F                     0\n",
       "Afterburner Water Inlet Temp F               0\n",
       "Afterburner Water Outlet Temp F              0\n",
       "Afterburner Flue Inlet Temp F                0\n",
       "Afterburner Flue Outlet Temp F               0\n",
       "EFG Quenched Gas Temp F                      0\n",
       "EFG:B_TC_1_Shallow.Value                     0\n",
       "dtype: int64"
      ]
     },
     "execution_count": 36,
     "metadata": {},
     "output_type": "execute_result"
    }
   ],
   "source": [
    "(rd241203[zero_column_check] == 0).sum()"
   ]
  },
  {
   "cell_type": "code",
   "execution_count": 38,
   "id": "ba7cedc1-5557-40af-995a-a39b5dec1fe9",
   "metadata": {},
   "outputs": [
    {
     "data": {
      "text/plain": [
       "EFG Air Flow Rate lb/hr                      3\n",
       "Primary O2 Flow Rate lb/hr                   0\n",
       "EFG System Pressure psi                      0\n",
       "Slurry Flow Rate lb/hr                       0\n",
       "Injector Cooling Water Outlet Temp F         0\n",
       "Analyzer 2 CO2 %                             0\n",
       "Analyzer 2 CO %                              0\n",
       "Analyzer 3 O2 %                              1\n",
       "Analyzer 3 CO2%                              0\n",
       "ABB CH4                                      0\n",
       "ABB CO                                       0\n",
       "ABB CO2                                      0\n",
       "ABB O2                                       1\n",
       "GB O2%                                      23\n",
       "GB CO2%                                      0\n",
       "GB CO%                                       0\n",
       "GB CH4%                                      0\n",
       "GB H2%                                       0\n",
       "GB C2H4%                                   389\n",
       "GB C2H2%                                     0\n",
       "Afterburner Air Flow Rate lb/hr              4\n",
       "Afterburner Natural Gas Flow Rate lb/hr      0\n",
       "Afterburner Sec 1 Temp F                     0\n",
       "Afterburner Sec 2 Temp F                     0\n",
       "Afterburner Sec 3 Temp F                     0\n",
       "Afterburner Sec 4 Temp F                     0\n",
       "Afterburner Water Inlet Temp F               0\n",
       "Afterburner Water Outlet Temp F              0\n",
       "Afterburner Flue Inlet Temp F                0\n",
       "Afterburner Flue Outlet Temp F               0\n",
       "EFG Quenched Gas Temp F                      0\n",
       "EFG:B_TC_1_Shallow.Value                     0\n",
       "dtype: int64"
      ]
     },
     "execution_count": 38,
     "metadata": {},
     "output_type": "execute_result"
    }
   ],
   "source": [
    "(rd241205[zero_column_check] == 0).sum()"
   ]
  },
  {
   "cell_type": "code",
   "execution_count": 10,
   "id": "20f0d769-d3a6-4f29-93f2-08cdc0d61260",
   "metadata": {},
   "outputs": [],
   "source": [
    "# Concatenate the filtered DataFrames:\n",
    "combined_df = pd.concat(filtered_dfs, ignore_index=True)"
   ]
  }
 ],
 "metadata": {
  "kernelspec": {
   "display_name": "Python dbgenv",
   "language": "python",
   "name": "dbgenv"
  },
  "language_info": {
   "codemirror_mode": {
    "name": "ipython",
    "version": 3
   },
   "file_extension": ".py",
   "mimetype": "text/x-python",
   "name": "python",
   "nbconvert_exporter": "python",
   "pygments_lexer": "ipython3",
   "version": "3.13.2"
  }
 },
 "nbformat": 4,
 "nbformat_minor": 5
}
